{
 "cells": [
  {
   "cell_type": "code",
   "execution_count": 1,
   "metadata": {},
   "outputs": [],
   "source": [
    "import pandas as pd\n",
    "%matplotlib inline"
   ]
  },
  {
   "cell_type": "code",
   "execution_count": 2,
   "metadata": {},
   "outputs": [],
   "source": [
    "sem6 = pd.read_csv('p1.csv')\n",
    "sem7 = pd.read_csv('sem7 results.csv')"
   ]
  },
  {
   "cell_type": "code",
   "execution_count": 3,
   "metadata": {},
   "outputs": [
    {
     "data": {
      "text/plain": [
       "(Index(['Enrolment No.', 'Student Name', 'Student Marks', 'Rank'], dtype='object'),\n",
       " Index(['name', ' rollno', ' sgpa'], dtype='object'))"
      ]
     },
     "execution_count": 3,
     "metadata": {},
     "output_type": "execute_result"
    }
   ],
   "source": [
    "sem6.columns,sem7.columns"
   ]
  },
  {
   "cell_type": "code",
   "execution_count": 10,
   "metadata": {},
   "outputs": [],
   "source": [
    "mrg = pd.merge(sem6,sem7,left_on = 'Enrolment No.',right_on=' rollno',how='left' ).drop(columns= ['name', 'Rank',' rollno'])\\\n",
    "    .drop_duplicates(subset='Enrolment No.')\n",
    "mrg.columns = ['rollno','name','sgpa6', 'sgpa7']\n",
    "# mrg.to_csv('collated.csv',index=False)\n"
   ]
  },
  {
   "cell_type": "code",
   "execution_count": null,
   "metadata": {},
   "outputs": [],
   "source": []
  }
 ],
 "metadata": {
  "kernelspec": {
   "display_name": "Python 3",
   "language": "python",
   "name": "python3"
  },
  "language_info": {
   "codemirror_mode": {
    "name": "ipython",
    "version": 3
   },
   "file_extension": ".py",
   "mimetype": "text/x-python",
   "name": "python",
   "nbconvert_exporter": "python",
   "pygments_lexer": "ipython3",
   "version": "3.8.0 (tags/v3.8.0:fa919fd, Oct 14 2019, 19:37:50) [MSC v.1916 64 bit (AMD64)]"
  },
  "orig_nbformat": 4,
  "vscode": {
   "interpreter": {
    "hash": "4d9d73bef240e79d95e6e659f863e891f7258a850273f6cf598dfb8d59794abb"
   }
  }
 },
 "nbformat": 4,
 "nbformat_minor": 2
}
