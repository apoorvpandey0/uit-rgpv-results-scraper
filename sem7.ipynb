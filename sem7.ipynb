{
 "cells": [
  {
   "cell_type": "code",
   "execution_count": 1,
   "metadata": {},
   "outputs": [],
   "source": [
    "import pandas as pd\n",
    "%matplotlib inline"
   ]
  },
  {
   "cell_type": "code",
   "execution_count": 2,
   "metadata": {},
   "outputs": [],
   "source": [
    "df = pd.read_csv('sem7 results.csv')"
   ]
  },
  {
   "cell_type": "code",
   "execution_count": 3,
   "metadata": {},
   "outputs": [
    {
     "data": {
      "text/html": [
       "<div>\n",
       "<style scoped>\n",
       "    .dataframe tbody tr th:only-of-type {\n",
       "        vertical-align: middle;\n",
       "    }\n",
       "\n",
       "    .dataframe tbody tr th {\n",
       "        vertical-align: top;\n",
       "    }\n",
       "\n",
       "    .dataframe thead th {\n",
       "        text-align: right;\n",
       "    }\n",
       "</style>\n",
       "<table border=\"1\" class=\"dataframe\">\n",
       "  <thead>\n",
       "    <tr style=\"text-align: right;\">\n",
       "      <th></th>\n",
       "      <th>name</th>\n",
       "      <th>rollno</th>\n",
       "      <th>sgpa</th>\n",
       "    </tr>\n",
       "  </thead>\n",
       "  <tbody>\n",
       "    <tr>\n",
       "      <th>0</th>\n",
       "      <td>AARTI</td>\n",
       "      <td>0101IT191001</td>\n",
       "      <td>6.21</td>\n",
       "    </tr>\n",
       "    <tr>\n",
       "      <th>1</th>\n",
       "      <td>ABHINAV VISHWAKARMA</td>\n",
       "      <td>0101IT191002</td>\n",
       "      <td>5.33</td>\n",
       "    </tr>\n",
       "    <tr>\n",
       "      <th>2</th>\n",
       "      <td>ABHISHEK AMODE</td>\n",
       "      <td>0101IT191003</td>\n",
       "      <td>4.67</td>\n",
       "    </tr>\n",
       "    <tr>\n",
       "      <th>3</th>\n",
       "      <td>ABHISHEK MEHRA</td>\n",
       "      <td>0101IT191004</td>\n",
       "      <td>4.38</td>\n",
       "    </tr>\n",
       "    <tr>\n",
       "      <th>4</th>\n",
       "      <td>ABHISHEK SANODIYA</td>\n",
       "      <td>0101IT191005</td>\n",
       "      <td>6.83</td>\n",
       "    </tr>\n",
       "  </tbody>\n",
       "</table>\n",
       "</div>"
      ],
      "text/plain": [
       "                  name        rollno   sgpa\n",
       "0                AARTI  0101IT191001   6.21\n",
       "1  ABHINAV VISHWAKARMA  0101IT191002   5.33\n",
       "2       ABHISHEK AMODE  0101IT191003   4.67\n",
       "3       ABHISHEK MEHRA  0101IT191004   4.38\n",
       "4    ABHISHEK SANODIYA  0101IT191005   6.83"
      ]
     },
     "execution_count": 3,
     "metadata": {},
     "output_type": "execute_result"
    }
   ],
   "source": [
    "df.head()"
   ]
  },
  {
   "cell_type": "code",
   "execution_count": 4,
   "metadata": {},
   "outputs": [
    {
     "data": {
      "text/plain": [
       "Index(['name', ' rollno', ' sgpa'], dtype='object')"
      ]
     },
     "execution_count": 4,
     "metadata": {},
     "output_type": "execute_result"
    }
   ],
   "source": [
    "df.columns"
   ]
  },
  {
   "cell_type": "code",
   "execution_count": 5,
   "metadata": {},
   "outputs": [
    {
     "data": {
      "text/html": [
       "<div>\n",
       "<style scoped>\n",
       "    .dataframe tbody tr th:only-of-type {\n",
       "        vertical-align: middle;\n",
       "    }\n",
       "\n",
       "    .dataframe tbody tr th {\n",
       "        vertical-align: top;\n",
       "    }\n",
       "\n",
       "    .dataframe thead th {\n",
       "        text-align: right;\n",
       "    }\n",
       "</style>\n",
       "<table border=\"1\" class=\"dataframe\">\n",
       "  <thead>\n",
       "    <tr style=\"text-align: right;\">\n",
       "      <th></th>\n",
       "      <th>name</th>\n",
       "      <th>rollno</th>\n",
       "      <th>sgpa</th>\n",
       "      <th>bins5</th>\n",
       "      <th>bins10</th>\n",
       "    </tr>\n",
       "  </thead>\n",
       "  <tbody>\n",
       "    <tr>\n",
       "      <th>0</th>\n",
       "      <td>AARTI</td>\n",
       "      <td>0101IT191001</td>\n",
       "      <td>6.21</td>\n",
       "      <td>60-65</td>\n",
       "      <td>60-70</td>\n",
       "    </tr>\n",
       "    <tr>\n",
       "      <th>1</th>\n",
       "      <td>ABHINAV VISHWAKARMA</td>\n",
       "      <td>0101IT191002</td>\n",
       "      <td>5.33</td>\n",
       "      <td>50-55</td>\n",
       "      <td>50-60</td>\n",
       "    </tr>\n",
       "    <tr>\n",
       "      <th>2</th>\n",
       "      <td>ABHISHEK AMODE</td>\n",
       "      <td>0101IT191003</td>\n",
       "      <td>4.67</td>\n",
       "      <td>45-50</td>\n",
       "      <td>40-50</td>\n",
       "    </tr>\n",
       "    <tr>\n",
       "      <th>3</th>\n",
       "      <td>ABHISHEK MEHRA</td>\n",
       "      <td>0101IT191004</td>\n",
       "      <td>4.38</td>\n",
       "      <td>40-45</td>\n",
       "      <td>40-50</td>\n",
       "    </tr>\n",
       "    <tr>\n",
       "      <th>4</th>\n",
       "      <td>ABHISHEK SANODIYA</td>\n",
       "      <td>0101IT191005</td>\n",
       "      <td>6.83</td>\n",
       "      <td>65-70</td>\n",
       "      <td>60-70</td>\n",
       "    </tr>\n",
       "    <tr>\n",
       "      <th>5</th>\n",
       "      <td>ADARSH KUSHWAHA</td>\n",
       "      <td>0101IT191006</td>\n",
       "      <td>5.71</td>\n",
       "      <td>55-60</td>\n",
       "      <td>50-60</td>\n",
       "    </tr>\n",
       "  </tbody>\n",
       "</table>\n",
       "</div>"
      ],
      "text/plain": [
       "                  name        rollno   sgpa  bins5 bins10\n",
       "0                AARTI  0101IT191001   6.21  60-65  60-70\n",
       "1  ABHINAV VISHWAKARMA  0101IT191002   5.33  50-55  50-60\n",
       "2       ABHISHEK AMODE  0101IT191003   4.67  45-50  40-50\n",
       "3       ABHISHEK MEHRA  0101IT191004   4.38  40-45  40-50\n",
       "4    ABHISHEK SANODIYA  0101IT191005   6.83  65-70  60-70\n",
       "5      ADARSH KUSHWAHA  0101IT191006   5.71  55-60  50-60"
      ]
     },
     "execution_count": 5,
     "metadata": {},
     "output_type": "execute_result"
    }
   ],
   "source": [
    "df['bins5'] = pd.cut(df[' sgpa']*10,bins=[i for i in range(0,105,5)],labels=[str(i-5)+'-'+str(i) for i in range(5,105,5)])\n",
    "df['bins10'] = pd.cut(df[' sgpa']*10,bins=[i for i in range(0,105,10)],labels=[str(i-10)+'-'+str(i) for i in range(10,105,10)])\n",
    "df.head(6)"
   ]
  },
  {
   "cell_type": "code",
   "execution_count": 6,
   "metadata": {},
   "outputs": [
    {
     "data": {
      "text/plain": [
       "<AxesSubplot: xlabel='CGPA', ylabel='Number of students'>"
      ]
     },
     "execution_count": 6,
     "metadata": {},
     "output_type": "execute_result"
    },
    {
     "data": {
      "image/png": "[encoded data removed]",
      "text/plain": [
       "<Figure size 640x480 with 1 Axes>"
      ]
     },
     "metadata": {},
     "output_type": "display_data"
    }
   ],
   "source": [
    "g5 = df.groupby('bins5')[' rollno'].count().reset_index()\n",
    "g5.columns = ['bins5','count']\n",
    "g5.plot(kind='bar',x='bins5',y='count',ylabel='Number of students',xlabel= 'CGPA')"
   ]
  },
  {
   "cell_type": "code",
   "execution_count": 7,
   "metadata": {},
   "outputs": [
    {
     "data": {
      "text/plain": [
       "<AxesSubplot: xlabel='CGPA', ylabel='Number of students'>"
      ]
     },
     "execution_count": 7,
     "metadata": {},
     "output_type": "execute_result"
    },
    {
     "data": {
      "image/png": "[encoded data removed]",
      "text/plain": [
       "<Figure size 640x480 with 1 Axes>"
      ]
     },
     "metadata": {},
     "output_type": "display_data"
    }
   ],
   "source": [
    "g10 = df.groupby('bins10')[' rollno'].count().reset_index()\n",
    "g10.columns = ['bins10','count']\n",
    "g10.plot(kind='bar',x='bins10',y='count',ylabel='Number of students',xlabel= 'CGPA')"
   ]
  },
  {
   "cell_type": "code",
   "execution_count": 8,
   "metadata": {},
   "outputs": [
    {
     "data": {
      "text/plain": [
       "(6.200740740740741, 6.29)"
      ]
     },
     "execution_count": 8,
     "metadata": {},
     "output_type": "execute_result"
    }
   ],
   "source": [
    "df[' sgpa'].mean(),df[' sgpa'].median()"
   ]
  },
  {
   "attachments": {},
   "cell_type": "markdown",
   "metadata": {},
   "source": [
    "### Ranks"
   ]
  },
  {
   "cell_type": "code",
   "execution_count": 15,
   "metadata": {},
   "outputs": [
    {
     "data": {
      "text/plain": [
       "48                   PRAGYA KAPOOR\n",
       "57                  SANSKAR MISHRA\n",
       "18                   AISHWARYA JHA\n",
       "47                  PAVITRA SHARMA\n",
       "61                TUSHITA PARASHAR\n",
       "77                            name\n",
       "34                DEWADITYA DONGRE\n",
       "50                   PRANJAL GOYAL\n",
       "59                    SARANSH JAIN\n",
       "54                     RITIK GUPTA\n",
       "36              GYANESHWARI SHARMA\n",
       "28                   AYUSHI THAKUR\n",
       "38             HITANSHU YADUWANSHI\n",
       "35              DHAVAL SHRIVASTAVA\n",
       "55                   RUNJHUN GOYAL\n",
       "51                  RAKESH HEMWANI\n",
       "39               JAYESH MAHESHWARI\n",
       "23                   APOORV PANDEY\n",
       "31                    CHHAYA BISEN\n",
       "64                   VEDANG SHARMA\n",
       "22                    ANKITA DHOKE\n",
       "58                  SANSKAR PANDEY\n",
       "60                  TANISHA PATHAK\n",
       "16               ABHISHEK SANODIYA\n",
       "25    ARYAMAN YUVRAJ SINGH PARIHAR\n",
       "44                      NEHAL SHAH\n",
       "45        PALASH SINGH RAGHUWANSHI\n",
       "32                   DEEPAK DHAKAD\n",
       "65                    VENUKA RATHI\n",
       "68                   ZAINAB M RAJA\n",
       "Name: name, dtype: object"
      ]
     },
     "execution_count": 15,
     "metadata": {},
     "output_type": "execute_result"
    }
   ],
   "source": [
    "df.sort_values(by=' sgpa',ascending=False).name.drop_duplicates().head(30)"
   ]
  },
  {
   "cell_type": "code",
   "execution_count": null,
   "metadata": {},
   "outputs": [],
   "source": []
  }
 ],
 "metadata": {
  "kernelspec": {
   "display_name": "Python 3",
   "language": "python",
   "name": "python3"
  },
  "language_info": {
   "codemirror_mode": {
    "name": "ipython",
    "version": 3
   },
   "file_extension": ".py",
   "mimetype": "text/x-python",
   "name": "python",
   "nbconvert_exporter": "python",
   "pygments_lexer": "ipython3",
   "version": "3.8.0"
  },
  "orig_nbformat": 4,
  "vscode": {
   "interpreter": {
    "hash": "4d9d73bef240e79d95e6e659f863e891f7258a850273f6cf598dfb8d59794abb"
   }
  }
 },
 "nbformat": 4,
 "nbformat_minor": 2
}
