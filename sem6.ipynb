{
 "cells": [
  {
   "cell_type": "code",
   "execution_count": 39,
   "metadata": {},
   "outputs": [],
   "source": [
    "from tabula import read_pdf\n",
    "import pandas as pd\n",
    "%matplotlib inline"
   ]
  },
  {
   "cell_type": "code",
   "execution_count": 40,
   "metadata": {},
   "outputs": [],
   "source": [
    "lst = read_pdf(\"6th sem result.pdf\",pages='all')"
   ]
  },
  {
   "cell_type": "code",
   "execution_count": 41,
   "metadata": {},
   "outputs": [],
   "source": [
    "# df1 = pd.DataFrame(lst[0])\n",
    "# df1.head()"
   ]
  },
  {
   "cell_type": "code",
   "execution_count": 42,
   "metadata": {},
   "outputs": [],
   "source": [
    "# lst[0].to_csv('p1.csv',index=False)\n",
    "# lst[1].to_csv('p2.csv',index=False)"
   ]
  },
  {
   "cell_type": "code",
   "execution_count": 43,
   "metadata": {},
   "outputs": [],
   "source": [
    "# df1 = lst[0]\n",
    "# df2 = pd.read_csv('p2.csv')\n",
    "# df1.head()"
   ]
  },
  {
   "cell_type": "code",
   "execution_count": 44,
   "metadata": {},
   "outputs": [],
   "source": [
    "# df2.head()"
   ]
  },
  {
   "cell_type": "code",
   "execution_count": 45,
   "metadata": {},
   "outputs": [],
   "source": [
    "df = pd.read_csv('p1.csv')"
   ]
  },
  {
   "cell_type": "code",
   "execution_count": 46,
   "metadata": {},
   "outputs": [
    {
     "data": {
      "text/html": [
       "<div>\n",
       "<style scoped>\n",
       "    .dataframe tbody tr th:only-of-type {\n",
       "        vertical-align: middle;\n",
       "    }\n",
       "\n",
       "    .dataframe tbody tr th {\n",
       "        vertical-align: top;\n",
       "    }\n",
       "\n",
       "    .dataframe thead th {\n",
       "        text-align: right;\n",
       "    }\n",
       "</style>\n",
       "<table border=\"1\" class=\"dataframe\">\n",
       "  <thead>\n",
       "    <tr style=\"text-align: right;\">\n",
       "      <th></th>\n",
       "      <th>Enrolment No.</th>\n",
       "      <th>Student Name</th>\n",
       "      <th>Student Marks</th>\n",
       "      <th>Rank</th>\n",
       "    </tr>\n",
       "  </thead>\n",
       "  <tbody>\n",
       "    <tr>\n",
       "      <th>0</th>\n",
       "      <td>0101IT191038</td>\n",
       "      <td>PRAGYA KAPOOR</td>\n",
       "      <td>9.52</td>\n",
       "      <td>1</td>\n",
       "    </tr>\n",
       "    <tr>\n",
       "      <th>1</th>\n",
       "      <td>0101IT191059</td>\n",
       "      <td>TUSHITA PARASHAR</td>\n",
       "      <td>8.88</td>\n",
       "      <td>2</td>\n",
       "    </tr>\n",
       "    <tr>\n",
       "      <th>2</th>\n",
       "      <td>0101IT191052</td>\n",
       "      <td>SANSKAR MISHRA</td>\n",
       "      <td>8.76</td>\n",
       "      <td>3</td>\n",
       "    </tr>\n",
       "    <tr>\n",
       "      <th>3</th>\n",
       "      <td>0101IT191025</td>\n",
       "      <td>DHAVAL SHRIVASTAVA</td>\n",
       "      <td>8.48</td>\n",
       "      <td>4</td>\n",
       "    </tr>\n",
       "    <tr>\n",
       "      <th>4</th>\n",
       "      <td>0101IT191012</td>\n",
       "      <td>APOORV PANDEY</td>\n",
       "      <td>8.04</td>\n",
       "      <td>5</td>\n",
       "    </tr>\n",
       "  </tbody>\n",
       "</table>\n",
       "</div>"
      ],
      "text/plain": [
       "  Enrolment No.        Student Name  Student Marks  Rank\n",
       "0  0101IT191038       PRAGYA KAPOOR           9.52     1\n",
       "1  0101IT191059    TUSHITA PARASHAR           8.88     2\n",
       "2  0101IT191052      SANSKAR MISHRA           8.76     3\n",
       "3  0101IT191025  DHAVAL SHRIVASTAVA           8.48     4\n",
       "4  0101IT191012       APOORV PANDEY           8.04     5"
      ]
     },
     "execution_count": 46,
     "metadata": {},
     "output_type": "execute_result"
    }
   ],
   "source": [
    "df.head()"
   ]
  },
  {
   "cell_type": "code",
   "execution_count": 47,
   "metadata": {},
   "outputs": [
    {
     "data": {
      "text/plain": [
       "<AxesSubplot: >"
      ]
     },
     "execution_count": 47,
     "metadata": {},
     "output_type": "execute_result"
    },
    {
     "data": {
      "image/png": "[encoded data removed]",
      "text/plain": [
       "<Figure size 640x480 with 1 Axes>"
      ]
     },
     "metadata": {},
     "output_type": "display_data"
    }
   ],
   "source": [
    "df['Student Marks'].plot(kind='box')"
   ]
  },
  {
   "cell_type": "code",
   "execution_count": 53,
   "metadata": {},
   "outputs": [
    {
     "data": {
      "text/html": [
       "<div>\n",
       "<style scoped>\n",
       "    .dataframe tbody tr th:only-of-type {\n",
       "        vertical-align: middle;\n",
       "    }\n",
       "\n",
       "    .dataframe tbody tr th {\n",
       "        vertical-align: top;\n",
       "    }\n",
       "\n",
       "    .dataframe thead th {\n",
       "        text-align: right;\n",
       "    }\n",
       "</style>\n",
       "<table border=\"1\" class=\"dataframe\">\n",
       "  <thead>\n",
       "    <tr style=\"text-align: right;\">\n",
       "      <th></th>\n",
       "      <th>Enrolment No.</th>\n",
       "      <th>Student Name</th>\n",
       "      <th>Student Marks</th>\n",
       "      <th>Rank</th>\n",
       "      <th>bins5</th>\n",
       "      <th>bins10</th>\n",
       "    </tr>\n",
       "  </thead>\n",
       "  <tbody>\n",
       "    <tr>\n",
       "      <th>0</th>\n",
       "      <td>0101IT191038</td>\n",
       "      <td>PRAGYA KAPOOR</td>\n",
       "      <td>9.52</td>\n",
       "      <td>1</td>\n",
       "      <td>95-100</td>\n",
       "      <td>90-100</td>\n",
       "    </tr>\n",
       "    <tr>\n",
       "      <th>1</th>\n",
       "      <td>0101IT191059</td>\n",
       "      <td>TUSHITA PARASHAR</td>\n",
       "      <td>8.88</td>\n",
       "      <td>2</td>\n",
       "      <td>85-90</td>\n",
       "      <td>80-90</td>\n",
       "    </tr>\n",
       "    <tr>\n",
       "      <th>2</th>\n",
       "      <td>0101IT191052</td>\n",
       "      <td>SANSKAR MISHRA</td>\n",
       "      <td>8.76</td>\n",
       "      <td>3</td>\n",
       "      <td>85-90</td>\n",
       "      <td>80-90</td>\n",
       "    </tr>\n",
       "    <tr>\n",
       "      <th>3</th>\n",
       "      <td>0101IT191025</td>\n",
       "      <td>DHAVAL SHRIVASTAVA</td>\n",
       "      <td>8.48</td>\n",
       "      <td>4</td>\n",
       "      <td>80-85</td>\n",
       "      <td>80-90</td>\n",
       "    </tr>\n",
       "    <tr>\n",
       "      <th>4</th>\n",
       "      <td>0101IT191012</td>\n",
       "      <td>APOORV PANDEY</td>\n",
       "      <td>8.04</td>\n",
       "      <td>5</td>\n",
       "      <td>80-85</td>\n",
       "      <td>80-90</td>\n",
       "    </tr>\n",
       "    <tr>\n",
       "      <th>5</th>\n",
       "      <td>0101IT191018</td>\n",
       "      <td>AYUSHI THAKUR</td>\n",
       "      <td>8.04</td>\n",
       "      <td>6</td>\n",
       "      <td>80-85</td>\n",
       "      <td>80-90</td>\n",
       "    </tr>\n",
       "  </tbody>\n",
       "</table>\n",
       "</div>"
      ],
      "text/plain": [
       "  Enrolment No.        Student Name  Student Marks  Rank   bins5  bins10\n",
       "0  0101IT191038       PRAGYA KAPOOR           9.52     1  95-100  90-100\n",
       "1  0101IT191059    TUSHITA PARASHAR           8.88     2   85-90   80-90\n",
       "2  0101IT191052      SANSKAR MISHRA           8.76     3   85-90   80-90\n",
       "3  0101IT191025  DHAVAL SHRIVASTAVA           8.48     4   80-85   80-90\n",
       "4  0101IT191012       APOORV PANDEY           8.04     5   80-85   80-90\n",
       "5  0101IT191018       AYUSHI THAKUR           8.04     6   80-85   80-90"
      ]
     },
     "execution_count": 53,
     "metadata": {},
     "output_type": "execute_result"
    }
   ],
   "source": [
    "df['bins5'] = pd.cut(df['Student Marks']*10,bins=[i for i in range(0,105,5)],labels=[str(i-5)+'-'+str(i) for i in range(5,105,5)])\n",
    "df['bins10'] = pd.cut(df['Student Marks']*10,bins=[i for i in range(0,105,10)],labels=[str(i-10)+'-'+str(i) for i in range(10,105,10)])\n",
    "df.head(6)"
   ]
  },
  {
   "cell_type": "code",
   "execution_count": 54,
   "metadata": {},
   "outputs": [
    {
     "data": {
      "text/plain": [
       "<AxesSubplot: xlabel='CGPA', ylabel='Number of students'>"
      ]
     },
     "execution_count": 54,
     "metadata": {},
     "output_type": "execute_result"
    },
    {
     "data": {
      "image/png": "[encoded data removed]",
      "text/plain": [
       "<Figure size 640x480 with 1 Axes>"
      ]
     },
     "metadata": {},
     "output_type": "display_data"
    }
   ],
   "source": [
    "g5 = df.groupby('bins5')['Enrolment No.'].count().reset_index()\n",
    "g5.columns = ['bins5','count']\n",
    "g5.plot(kind='bar',x='bins5',y='count',ylabel='Number of students',xlabel= 'CGPA')"
   ]
  },
  {
   "cell_type": "code",
   "execution_count": 55,
   "metadata": {},
   "outputs": [
    {
     "data": {
      "text/plain": [
       "<AxesSubplot: xlabel='CGPA', ylabel='Number of students'>"
      ]
     },
     "execution_count": 55,
     "metadata": {},
     "output_type": "execute_result"
    },
    {
     "data": {
      "image/png": "[encoded data removed]",
      "text/plain": [
       "<Figure size 640x480 with 1 Axes>"
      ]
     },
     "metadata": {},
     "output_type": "display_data"
    }
   ],
   "source": [
    "g10 = df.groupby('bins10')['Enrolment No.'].count().reset_index()\n",
    "g10.columns = ['bins10','count']\n",
    "g10.plot(kind='bar',x='bins10',y='count',ylabel='Number of students',xlabel= 'CGPA')"
   ]
  },
  {
   "cell_type": "code",
   "execution_count": 52,
   "metadata": {},
   "outputs": [
    {
     "data": {
      "text/plain": [
       "(6.616986301369863, 6.88)"
      ]
     },
     "execution_count": 52,
     "metadata": {},
     "output_type": "execute_result"
    }
   ],
   "source": [
    "df['Student Marks'].mean(),df['Student Marks'].median()"
   ]
  },
  {
   "cell_type": "code",
   "execution_count": null,
   "metadata": {},
   "outputs": [],
   "source": []
  }
 ],
 "metadata": {
  "kernelspec": {
   "display_name": "Python 3",
   "language": "python",
   "name": "python3"
  },
  "language_info": {
   "codemirror_mode": {
    "name": "ipython",
    "version": 3
   },
   "file_extension": ".py",
   "mimetype": "text/x-python",
   "name": "python",
   "nbconvert_exporter": "python",
   "pygments_lexer": "ipython3",
   "version": "3.8.0"
  },
  "orig_nbformat": 4,
  "vscode": {
   "interpreter": {
    "hash": "4d9d73bef240e79d95e6e659f863e891f7258a850273f6cf598dfb8d59794abb"
   }
  }
 },
 "nbformat": 4,
 "nbformat_minor": 2
}
