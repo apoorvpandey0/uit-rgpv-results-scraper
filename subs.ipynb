{
 "cells": [
  {
   "cell_type": "code",
   "execution_count": 1,
   "metadata": {},
   "outputs": [],
   "source": [
    "import pandas as pd\n",
    "try: \n",
    "    from BeautifulSoup import BeautifulSoup\n",
    "except ImportError:\n",
    "    from bs4 import BeautifulSoup\n"
   ]
  },
  {
   "cell_type": "code",
   "execution_count": 13,
   "metadata": {},
   "outputs": [
    {
     "data": {
      "text/html": [
       "<div>\n",
       "<style scoped>\n",
       "    .dataframe tbody tr th:only-of-type {\n",
       "        vertical-align: middle;\n",
       "    }\n",
       "\n",
       "    .dataframe tbody tr th {\n",
       "        vertical-align: top;\n",
       "    }\n",
       "\n",
       "    .dataframe thead th {\n",
       "        text-align: right;\n",
       "    }\n",
       "</style>\n",
       "<table border=\"1\" class=\"dataframe\">\n",
       "  <thead>\n",
       "    <tr style=\"text-align: right;\">\n",
       "      <th></th>\n",
       "      <th>name</th>\n",
       "      <th>rollno</th>\n",
       "      <th>sgpa</th>\n",
       "    </tr>\n",
       "  </thead>\n",
       "  <tbody>\n",
       "    <tr>\n",
       "      <th>0</th>\n",
       "      <td>AARTI</td>\n",
       "      <td>0101IT191001</td>\n",
       "      <td>6.21</td>\n",
       "    </tr>\n",
       "    <tr>\n",
       "      <th>1</th>\n",
       "      <td>ABHINAV VISHWAKARMA</td>\n",
       "      <td>0101IT191002</td>\n",
       "      <td>5.33</td>\n",
       "    </tr>\n",
       "    <tr>\n",
       "      <th>2</th>\n",
       "      <td>ABHISHEK AMODE</td>\n",
       "      <td>0101IT191003</td>\n",
       "      <td>4.67</td>\n",
       "    </tr>\n",
       "    <tr>\n",
       "      <th>3</th>\n",
       "      <td>ABHISHEK MEHRA</td>\n",
       "      <td>0101IT191004</td>\n",
       "      <td>4.38</td>\n",
       "    </tr>\n",
       "    <tr>\n",
       "      <th>4</th>\n",
       "      <td>ABHISHEK SANODIYA</td>\n",
       "      <td>0101IT191005</td>\n",
       "      <td>6.83</td>\n",
       "    </tr>\n",
       "  </tbody>\n",
       "</table>\n",
       "</div>"
      ],
      "text/plain": [
       "                  name        rollno   sgpa\n",
       "0                AARTI  0101IT191001   6.21\n",
       "1  ABHINAV VISHWAKARMA  0101IT191002   5.33\n",
       "2       ABHISHEK AMODE  0101IT191003   4.67\n",
       "3       ABHISHEK MEHRA  0101IT191004   4.38\n",
       "4    ABHISHEK SANODIYA  0101IT191005   6.83"
      ]
     },
     "execution_count": 13,
     "metadata": {},
     "output_type": "execute_result"
    }
   ],
   "source": [
    "df = pd.read_csv(\"sem7 results.csv\")\n",
    "df.head()"
   ]
  },
  {
   "cell_type": "code",
   "execution_count": 14,
   "metadata": {},
   "outputs": [],
   "source": [
    "def get_subwise(enrollment):\n",
    "    with open(f\"raw 7 sem/{enrollment}.txt\",'rb') as f:\n",
    "        data = []\n",
    "        subs = {}\n",
    "        html = f.read()\n",
    "        soup = BeautifulSoup(html)\n",
    "        enrollment = soup.find('span',{'id':'ctl00_ContentPlaceHolder1_lblRollNoGrading'}).text \n",
    "        table = soup.find('table',{'id':'ctl00_ContentPlaceHolder1_gvGrading'})\n",
    "        rows = table.find_all('tr')\n",
    "        for row in rows:\n",
    "            cols = row.find_all('td')\n",
    "            cols = [ele.text.strip() for ele in cols]\n",
    "            data.append([ele for ele in cols if ele]) # Get rid of empty values\n",
    "        for row in data[1:]:\n",
    "            subs[row[0][:5]] = row[-1]\n",
    "    return subs    \n",
    "    # with open('subwise.csv','a') as s:\n",
    "    #     for key,val in sorted(subs.items(),key=lambda x:x[0]):\n",
    "    #         s.write(enrollment,key,value)\n",
    "        "
   ]
  },
  {
   "cell_type": "code",
   "execution_count": 16,
   "metadata": {},
   "outputs": [
    {
     "name": "stdout",
     "output_type": "stream",
     "text": [
      "Not found 17\n",
      "Not found 41\n",
      "Not found 42\n",
      "Not found 44\n",
      "Not found 45\n",
      "Not found 50\n",
      "Not found 55\n",
      "Not found 56\n",
      "Not found 57\n",
      "Not found 64\n",
      "Not found 67\n",
      "Not found 69\n"
     ]
    }
   ],
   "source": [
    "allsubs = []\n",
    "for i in range(1,70):\n",
    "    try:\n",
    "        allsubs.append(get_subwise('0101IT1910'+str(i).zfill(2)))\n",
    "    except:\n",
    "        print('Not found',i)\n",
    "# allsubs"
   ]
  },
  {
   "cell_type": "code",
   "execution_count": 20,
   "metadata": {},
   "outputs": [],
   "source": [
    "subsdf = pd.DataFrame(allsubs)\n",
    "subsdf.columns = ['WMC','ML','OOAD','ECOM','Major','Intern']\n",
    "subsdf.to_csv('subwise.csv',index=False)"
   ]
  },
  {
   "cell_type": "code",
   "execution_count": 21,
   "metadata": {},
   "outputs": [
    {
     "data": {
      "text/html": [
       "<div>\n",
       "<style scoped>\n",
       "    .dataframe tbody tr th:only-of-type {\n",
       "        vertical-align: middle;\n",
       "    }\n",
       "\n",
       "    .dataframe tbody tr th {\n",
       "        vertical-align: top;\n",
       "    }\n",
       "\n",
       "    .dataframe thead th {\n",
       "        text-align: right;\n",
       "    }\n",
       "</style>\n",
       "<table border=\"1\" class=\"dataframe\">\n",
       "  <thead>\n",
       "    <tr style=\"text-align: right;\">\n",
       "      <th></th>\n",
       "      <th>WMC</th>\n",
       "      <th>ML</th>\n",
       "      <th>OOAD</th>\n",
       "      <th>ECOM</th>\n",
       "      <th>Major</th>\n",
       "      <th>Intern</th>\n",
       "    </tr>\n",
       "  </thead>\n",
       "  <tbody>\n",
       "    <tr>\n",
       "      <th>0</th>\n",
       "      <td>A</td>\n",
       "      <td>A+</td>\n",
       "      <td>C+</td>\n",
       "      <td>C</td>\n",
       "      <td>B</td>\n",
       "      <td>C</td>\n",
       "    </tr>\n",
       "    <tr>\n",
       "      <th>1</th>\n",
       "      <td>A</td>\n",
       "      <td>A</td>\n",
       "      <td>C</td>\n",
       "      <td>D</td>\n",
       "      <td>B</td>\n",
       "      <td>C</td>\n",
       "    </tr>\n",
       "    <tr>\n",
       "      <th>2</th>\n",
       "      <td>A</td>\n",
       "      <td>B</td>\n",
       "      <td>C</td>\n",
       "      <td>D</td>\n",
       "      <td>C+</td>\n",
       "      <td>C+</td>\n",
       "    </tr>\n",
       "    <tr>\n",
       "      <th>3</th>\n",
       "      <td>A</td>\n",
       "      <td>A+</td>\n",
       "      <td>D</td>\n",
       "      <td>D</td>\n",
       "      <td>B</td>\n",
       "      <td>C</td>\n",
       "    </tr>\n",
       "    <tr>\n",
       "      <th>4</th>\n",
       "      <td>A</td>\n",
       "      <td>A</td>\n",
       "      <td>B+</td>\n",
       "      <td>C</td>\n",
       "      <td>B</td>\n",
       "      <td>C+</td>\n",
       "    </tr>\n",
       "  </tbody>\n",
       "</table>\n",
       "</div>"
      ],
      "text/plain": [
       "  WMC  ML OOAD ECOM Major Intern\n",
       "0   A  A+   C+    C     B      C\n",
       "1   A   A    C    D     B      C\n",
       "2   A   B    C    D    C+     C+\n",
       "3   A  A+    D    D     B      C\n",
       "4   A   A   B+    C     B     C+"
      ]
     },
     "execution_count": 21,
     "metadata": {},
     "output_type": "execute_result"
    }
   ],
   "source": [
    "subsdf.head()"
   ]
  },
  {
   "cell_type": "code",
   "execution_count": null,
   "metadata": {},
   "outputs": [],
   "source": []
  }
 ],
 "metadata": {
  "kernelspec": {
   "display_name": "Python 3",
   "language": "python",
   "name": "python3"
  },
  "language_info": {
   "codemirror_mode": {
    "name": "ipython",
    "version": 3
   },
   "file_extension": ".py",
   "mimetype": "text/x-python",
   "name": "python",
   "nbconvert_exporter": "python",
   "pygments_lexer": "ipython3",
   "version": "3.8.0"
  },
  "orig_nbformat": 4,
  "vscode": {
   "interpreter": {
    "hash": "4d9d73bef240e79d95e6e659f863e891f7258a850273f6cf598dfb8d59794abb"
   }
  }
 },
 "nbformat": 4,
 "nbformat_minor": 2
}
